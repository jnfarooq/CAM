{
  "nbformat": 4,
  "nbformat_minor": 0,
  "metadata": {
    "colab": {
      "name": "IMDB_dataset_simple_neural_net.ipynb",
      "version": "0.3.2",
      "provenance": [],
      "include_colab_link": true
    },
    "kernelspec": {
      "name": "python3",
      "display_name": "Python 3"
    }
  },
  "cells": [
    {
      "cell_type": "markdown",
      "metadata": {
        "id": "view-in-github",
        "colab_type": "text"
      },
      "source": [
        "[View in Colaboratory](https://colab.research.google.com/github/jnfarooq/CAM/blob/master/IMDB_dataset_simple_neural_net.ipynb)"
      ]
    },
    {
      "metadata": {
        "id": "QeSzdTtzJYQ7",
        "colab_type": "code",
        "colab": {
          "base_uri": "https://localhost:8080/",
          "height": 69
        },
        "outputId": "57132116-4c77-4f24-8acc-056aed4a0d8c"
      },
      "cell_type": "code",
      "source": [
        "import keras \n",
        "from keras.datasets import imdb\n",
        "\n",
        "# load the training and test data along with their labels and keep only the top 10,000 words. \n",
        "\n",
        "(train_data,train_labels),(test_data,test_labels) = imdb.load_data(num_words=10000)"
      ],
      "execution_count": 0,
      "outputs": [
        {
          "output_type": "stream",
          "text": [
            "Using TensorFlow backend.\n"
          ],
          "name": "stderr"
        },
        {
          "output_type": "stream",
          "text": [
            "Downloading data from https://s3.amazonaws.com/text-datasets/imdb.npz\n",
            "17465344/17464789 [==============================] - 1s 0us/step\n"
          ],
          "name": "stdout"
        }
      ]
    },
    {
      "metadata": {
        "id": "quYntKXoKRrU",
        "colab_type": "code",
        "colab": {
          "base_uri": "https://localhost:8080/",
          "height": 34
        },
        "outputId": "d726e339-97e5-4ad6-f984-62180ea648db"
      },
      "cell_type": "code",
      "source": [
        "train_data.shape"
      ],
      "execution_count": 0,
      "outputs": [
        {
          "output_type": "execute_result",
          "data": {
            "text/plain": [
              "(25000,)"
            ]
          },
          "metadata": {
            "tags": []
          },
          "execution_count": 2
        }
      ]
    },
    {
      "metadata": {
        "id": "syvGGWoqKYk7",
        "colab_type": "code",
        "colab": {
          "base_uri": "https://localhost:8080/",
          "height": 51
        },
        "outputId": "2c5a7f90-ff55-4575-bfec-918d9a4f23ca"
      },
      "cell_type": "code",
      "source": [
        "# converting the index list back to the review: return a dictionary\n",
        "word_index = imdb.get_word_index()\n",
        "\n",
        "reverse_word_index = dict([(value,key) for (key,value) in word_index.items()])"
      ],
      "execution_count": 0,
      "outputs": [
        {
          "output_type": "stream",
          "text": [
            "Downloading data from https://s3.amazonaws.com/text-datasets/imdb_word_index.json\n",
            "1646592/1641221 [==============================] - 0s 0us/step\n"
          ],
          "name": "stdout"
        }
      ]
    },
    {
      "metadata": {
        "id": "uqnVxSbxKYyx",
        "colab_type": "code",
        "colab": {
          "base_uri": "https://localhost:8080/",
          "height": 54
        },
        "outputId": "e413fcc4-3cd2-445d-d4c0-54b481576a6e"
      },
      "cell_type": "code",
      "source": [
        "decoded_review = ' '.join([reverse_word_index.get(i) for i in train_data[0]])\n",
        "decoded_review"
      ],
      "execution_count": 0,
      "outputs": [
        {
          "output_type": "execute_result",
          "data": {
            "text/plain": [
              "\"the as you with out themselves powerful lets loves their becomes reaching had journalist of lot from anyone to have after out atmosphere never more room and it so heart shows to years of every never going and help moments or of every chest visual movie except her was several of enough more with is now current film as you of mine potentially unfortunately of you than him that with out themselves her get for was camp of you movie sometimes movie that with scary but and to story wonderful that in seeing in character to of 70s musicians with heart had shadows they of here that with her serious to have does when from why what have critics they is you that isn't one will very to as itself with other and in of seen over landed for anyone of and br show's to whether from than out themselves history he name half some br of and odd was two most of mean for 1 any an boat she he should is thought frog but of script you not while history he heart to real at barrel but when from one bit then have two of script their with her nobody most that with wasn't to with armed acting watch an for with heartfelt film want an\""
            ]
          },
          "metadata": {
            "tags": []
          },
          "execution_count": 4
        }
      ]
    },
    {
      "metadata": {
        "id": "3laAZwo_KY2B",
        "colab_type": "code",
        "colab": {}
      },
      "cell_type": "code",
      "source": [
        "# let's do some one-hot encoding. \n",
        "import numpy as np\n",
        "\n",
        "def vectorize_sequences(sequences,dimension=10000):\n",
        "  \n",
        "  results = np.zeros((len(sequences),dimension))\n",
        "  \n",
        "  for i,sequence in enumerate(sequences):\n",
        "    results[i,sequence] = 1.\n",
        "  return results"
      ],
      "execution_count": 0,
      "outputs": []
    },
    {
      "metadata": {
        "id": "S24HLIDRKY8z",
        "colab_type": "code",
        "colab": {}
      },
      "cell_type": "code",
      "source": [
        "x_train = vectorize_sequences(train_data)\n",
        "x_test = vectorize_sequences(test_data)"
      ],
      "execution_count": 0,
      "outputs": []
    },
    {
      "metadata": {
        "id": "zbDeGZCoKiV-",
        "colab_type": "code",
        "colab": {}
      },
      "cell_type": "code",
      "source": [
        "# vectorize the labels as well. \n",
        "y_train = np.asarray(train_labels).astype('float32')\n",
        "y_test = np.asarray(test_labels).astype('float32')"
      ],
      "execution_count": 0,
      "outputs": []
    },
    {
      "metadata": {
        "id": "HX2AkZ5SKwue",
        "colab_type": "code",
        "colab": {}
      },
      "cell_type": "code",
      "source": [
        "# get the validation data\n",
        "x_val = x_train[:10000]\n",
        "partial_x_train = x_train[10000:]\n",
        "y_val = y_train[:10000]\n",
        "partial_y_train = y_train[10000:]"
      ],
      "execution_count": 0,
      "outputs": []
    },
    {
      "metadata": {
        "id": "ZcsOBcpQKkEu",
        "colab_type": "code",
        "colab": {
          "base_uri": "https://localhost:8080/",
          "height": 953
        },
        "outputId": "1c679ade-bf2a-4cdf-97a6-3afbe664889d"
      },
      "cell_type": "code",
      "source": [
        "# define the architectures:\n",
        "# input --> Dense(16)\n",
        "from keras.models import Sequential\n",
        "from keras.layers import Dense\n",
        "from keras.optimizers import RMSprop\n",
        "\n",
        "model = Sequential()\n",
        "model.add(Dense(16,activation='relu',input_shape=(10000,)))\n",
        "model.add(Dense(16,activation='relu'))\n",
        "model.add(Dense(1,activation='sigmoid'))\n",
        "\n",
        "model.compile(optimizer=RMSprop(lr=0.01),loss='binary_crossentropy',metrics=['accuracy'])\n",
        "\n",
        "history = model.fit(partial_x_train,partial_y_train,\n",
        "                   epochs = 20,\n",
        "                   batch_size=512,\n",
        "                   validation_data=(x_val,y_val))\n",
        "model.summary()"
      ],
      "execution_count": 0,
      "outputs": [
        {
          "output_type": "stream",
          "text": [
            "Train on 15000 samples, validate on 10000 samples\n",
            "Epoch 1/20\n",
            "15000/15000 [==============================] - 2s 153us/step - loss: 0.5916 - acc: 0.6837 - val_loss: 0.3278 - val_acc: 0.8747\n",
            "Epoch 2/20\n",
            "15000/15000 [==============================] - 2s 130us/step - loss: 0.3064 - acc: 0.8823 - val_loss: 0.3092 - val_acc: 0.8782\n",
            "Epoch 3/20\n",
            "15000/15000 [==============================] - 2s 130us/step - loss: 0.2118 - acc: 0.9174 - val_loss: 0.2937 - val_acc: 0.8823\n",
            "Epoch 4/20\n",
            "15000/15000 [==============================] - 2s 128us/step - loss: 0.1426 - acc: 0.9445 - val_loss: 0.3416 - val_acc: 0.8807\n",
            "Epoch 5/20\n",
            "15000/15000 [==============================] - 2s 129us/step - loss: 0.1323 - acc: 0.9499 - val_loss: 0.3610 - val_acc: 0.8822\n",
            "Epoch 6/20\n",
            "15000/15000 [==============================] - 2s 127us/step - loss: 0.0830 - acc: 0.9695 - val_loss: 0.5662 - val_acc: 0.8479\n",
            "Epoch 7/20\n",
            "15000/15000 [==============================] - 2s 127us/step - loss: 0.0895 - acc: 0.9675 - val_loss: 0.4107 - val_acc: 0.8802\n",
            "Epoch 8/20\n",
            "15000/15000 [==============================] - 2s 129us/step - loss: 0.0557 - acc: 0.9816 - val_loss: 0.4649 - val_acc: 0.8760\n",
            "Epoch 9/20\n",
            "15000/15000 [==============================] - 2s 128us/step - loss: 0.0135 - acc: 0.9969 - val_loss: 0.8299 - val_acc: 0.8435\n",
            "Epoch 10/20\n",
            "15000/15000 [==============================] - 2s 127us/step - loss: 0.0434 - acc: 0.9858 - val_loss: 0.6932 - val_acc: 0.8774\n",
            "Epoch 11/20\n",
            "15000/15000 [==============================] - 2s 127us/step - loss: 0.1007 - acc: 0.9825 - val_loss: 0.6806 - val_acc: 0.8740\n",
            "Epoch 12/20\n",
            "15000/15000 [==============================] - 2s 129us/step - loss: 0.0032 - acc: 0.9994 - val_loss: 0.7676 - val_acc: 0.8756\n",
            "Epoch 13/20\n",
            "15000/15000 [==============================] - 2s 127us/step - loss: 0.0018 - acc: 0.9995 - val_loss: 0.8603 - val_acc: 0.8734\n",
            "Epoch 14/20\n",
            "15000/15000 [==============================] - 2s 127us/step - loss: 0.0011 - acc: 0.9995 - val_loss: 0.9786 - val_acc: 0.8727\n",
            "Epoch 15/20\n",
            "15000/15000 [==============================] - 2s 128us/step - loss: 0.1187 - acc: 0.9851 - val_loss: 1.0174 - val_acc: 0.8701\n",
            "Epoch 16/20\n",
            "15000/15000 [==============================] - 2s 128us/step - loss: 5.4465e-04 - acc: 0.9999 - val_loss: 1.0233 - val_acc: 0.8709\n",
            "Epoch 17/20\n",
            "15000/15000 [==============================] - 2s 128us/step - loss: 3.3298e-04 - acc: 1.0000 - val_loss: 1.0445 - val_acc: 0.8709\n",
            "Epoch 18/20\n",
            "15000/15000 [==============================] - 2s 128us/step - loss: 2.4970e-04 - acc: 1.0000 - val_loss: 1.0759 - val_acc: 0.8711\n",
            "Epoch 19/20\n",
            "15000/15000 [==============================] - 2s 129us/step - loss: 1.5640e-04 - acc: 1.0000 - val_loss: 1.1328 - val_acc: 0.8710\n",
            "Epoch 20/20\n",
            "15000/15000 [==============================] - 2s 129us/step - loss: 7.1769e-05 - acc: 1.0000 - val_loss: 1.2041 - val_acc: 0.8707\n",
            "_________________________________________________________________\n",
            "Layer (type)                 Output Shape              Param #   \n",
            "=================================================================\n",
            "dense_7 (Dense)              (None, 16)                160016    \n",
            "_________________________________________________________________\n",
            "dense_8 (Dense)              (None, 16)                272       \n",
            "_________________________________________________________________\n",
            "dense_9 (Dense)              (None, 1)                 17        \n",
            "=================================================================\n",
            "Total params: 160,305\n",
            "Trainable params: 160,305\n",
            "Non-trainable params: 0\n",
            "_________________________________________________________________\n"
          ],
          "name": "stdout"
        }
      ]
    },
    {
      "metadata": {
        "id": "NDQ-d1iBKnvg",
        "colab_type": "code",
        "colab": {
          "base_uri": "https://localhost:8080/",
          "height": 379
        },
        "outputId": "4a8b9fca-c937-43b2-eb05-87b1a66004c8"
      },
      "cell_type": "code",
      "source": [
        "import matplotlib.pyplot as plt\n",
        "\n",
        "\n",
        "history_dict = history.history\n",
        "loss_values = history_dict['loss']\n",
        "val_loss_values = history_dict['val_loss']\n",
        "epochs = range(1,len(val_loss_values)+1)\n",
        "\n",
        "plt.plot(epochs,loss_values,'bo',label='Training loss')\n",
        "plt.plot(epochs,val_loss_values,'b',label='Validation loss')\n",
        "plt.title('Training and Validation Loss')\n",
        "plt.legend()"
      ],
      "execution_count": 0,
      "outputs": [
        {
          "output_type": "execute_result",
          "data": {
            "text/plain": [
              "<matplotlib.legend.Legend at 0x7fb12f6f1550>"
            ]
          },
          "metadata": {
            "tags": []
          },
          "execution_count": 12
        },
        {
          "output_type": "display_data",
          "data": {
            "image/png": "[encoded data removed]",
            "text/plain": [
              "<matplotlib.figure.Figure at 0x7fb12f62fa20>"
            ]
          },
          "metadata": {
            "tags": []
          }
        }
      ]
    },
    {
      "metadata": {
        "id": "Wqzyr_crK5N5",
        "colab_type": "code",
        "colab": {
          "base_uri": "https://localhost:8080/",
          "height": 379
        },
        "outputId": "0d221d55-ffae-4ade-a8bc-f6f47a07427b"
      },
      "cell_type": "code",
      "source": [
        "history_dict = history.history\n",
        "loss_values = history_dict['acc']\n",
        "val_loss_values = history_dict['val_acc']\n",
        "epochs = range(1,len(val_loss_values)+1)\n",
        "\n",
        "plt.plot(epochs,loss_values,'bo',label='Training Accuracy')\n",
        "plt.plot(epochs,val_loss_values,'b',label='Validation Accuracy')\n",
        "plt.title('Training and Validation Accuracy')\n",
        "plt.legend()"
      ],
      "execution_count": 0,
      "outputs": [
        {
          "output_type": "execute_result",
          "data": {
            "text/plain": [
              "<matplotlib.legend.Legend at 0x7fb12ee0bc88>"
            ]
          },
          "metadata": {
            "tags": []
          },
          "execution_count": 13
        },
        {
          "output_type": "display_data",
          "data": {
            "image/png": "[encoded data removed]",
            "text/plain": [
              "<matplotlib.figure.Figure at 0x7fb12f7dc4e0>"
            ]
          },
          "metadata": {
            "tags": []
          }
        }
      ]
    },
    {
      "metadata": {
        "id": "4TZJGmT4K8CK",
        "colab_type": "code",
        "colab": {
          "base_uri": "https://localhost:8080/",
          "height": 51
        },
        "outputId": "a5163f90-6b52-4d21-f282-7449b16e67da"
      },
      "cell_type": "code",
      "source": [
        "results = model.evaluate(x_test,y_test)\n",
        "results"
      ],
      "execution_count": 0,
      "outputs": [
        {
          "output_type": "stream",
          "text": [
            "25000/25000 [==============================] - 2s 75us/step\n"
          ],
          "name": "stdout"
        },
        {
          "output_type": "execute_result",
          "data": {
            "text/plain": [
              "[1.3474199727664073, 0.85256]"
            ]
          },
          "metadata": {
            "tags": []
          },
          "execution_count": 14
        }
      ]
    }
  ]
}